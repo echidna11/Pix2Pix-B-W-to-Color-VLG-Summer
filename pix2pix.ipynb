{
  "cells": [
    {
      "cell_type": "code",
      "execution_count": null,
      "metadata": {
        "id": "6c8RfIFNHa7n"
      },
      "outputs": [],
      "source": [
        "pip install fastai"
      ]
    },
    {
      "cell_type": "code",
      "execution_count": 2,
      "metadata": {
        "id": "Udjvo-MJIRdo"
      },
      "outputs": [],
      "source": [
        "import numpy as np\n",
        "import glob"
      ]
    },
    {
      "cell_type": "code",
      "execution_count": null,
      "metadata": {
        "id": "iPHIJJcCHYDU"
      },
      "outputs": [],
      "source": [
        "from fastai.data.external import untar_data, URLs\n",
        "coco_path = untar_data(URLs.COCO_SAMPLE)\n",
        "coco_path = str(coco_path) + \"/train_sample\"\n",
        "paths = glob.glob(coco_path + \"/*.jpg\") # Grabbing all the image file names\n",
        "np.random.seed(123)\n",
        "paths_subset = np.random.choice(paths, 2_000, replace=False) # choosing 1000 images randomly\n",
        "rand_idxs = np.random.permutation(2_000)\n",
        "train_idxs = rand_idxs[:1600] # choosing the first 8000 as training set\n",
        "val_idxs = rand_idxs[1600:] # choosing last 2000 as validation set\n",
        "train_paths = paths_subset[train_idxs]\n",
        "val_paths = paths_subset[val_idxs]\n",
        "print(len(train_paths), len(val_paths))"
      ]
    },
    {
      "cell_type": "markdown",
      "metadata": {
        "id": "PROxx0tHn90M"
      },
      "source": [
        "B&W image **creation**"
      ]
    },
    {
      "cell_type": "code",
      "execution_count": 17,
      "metadata": {
        "id": "h93z-qiQSHwM"
      },
      "outputs": [],
      "source": [
        "from PIL import Image \n",
        "#from tqdm.notebook import tqdm\n",
        "path_target = \"/root/.fastai/data/coco_sample/train_sample/\"\n",
        "path_train = \"/root/.fastai/data/coco_sample/train/\"\n",
        "imgurls = !ls -1 {path_target}\n",
        "for image in imgurls:\n",
        "  try:\n",
        "    img = PIL.Image.open(path_target + image)\n",
        "    img = img.convert('L')\n",
        "    img.save(path_train + image)\n",
        "  except:\n",
        "    pass\n",
        "\n",
        "\n"
      ]
    },
    {
      "cell_type": "code",
      "execution_count": null,
      "metadata": {
        "id": "Mf18qch_SK_a"
      },
      "outputs": [],
      "source": [
        "\n",
        "import PIL\n",
        "path_train = \"/root/.fastai/data/coco_sample/train/\"\n",
        "imgurls = !ls -1 {path_train}\n",
        "for image in tqdm(imgurls):\n",
        "  img = PIL.Image.open(path_train + image)\n",
        "  img = img.convert(mode='RGB')\n",
        "  img.save(path_train + image)"
      ]
    },
    {
      "cell_type": "markdown",
      "metadata": {
        "id": "vYi3jcIgoJmq"
      },
      "source": [
        "## Path Initialization"
      ]
    },
    {
      "cell_type": "code",
      "execution_count": null,
      "metadata": {
        "id": "SnMp05f-SLQC"
      },
      "outputs": [],
      "source": [
        "\n",
        "path_train = \"/root/.fastai/data/coco_sample/train/\"\n",
        "\n",
        "path_target = \"/root/.fastai/data/coco_sample/train_sample/\"\n",
        "\n",
        "\n",
        "imgurls = !ls -1 {path_train}\n",
        "print(len(imgurls))"
      ]
    },
    {
      "cell_type": "markdown",
      "metadata": {
        "id": "qPOT3HJmn287"
      },
      "source": []
    },
    {
      "cell_type": "code",
      "execution_count": null,
      "metadata": {
        "id": "yFYlXWgySLU0"
      },
      "outputs": [],
      "source": [
        "\n",
        "number_of_images = len(imgurls)\n",
        "print(f\"The number of total images are {number_of_images}\")\n",
        "train_percentage = 0.8\n",
        "train_urls = imgurls[:int(train_percentage*number_of_images)]\n",
        "test_urls = imgurls[int(train_percentage*number_of_images)+1:]\n",
        "print(f\"The number of total images are {len(train_urls)} and in test {len(test_urls)} \")"
      ]
    },
    {
      "cell_type": "markdown",
      "metadata": {
        "id": "2SeHgAJVogYn"
      },
      "source": [
        "# Data Augmentation"
      ]
    },
    {
      "cell_type": "markdown",
      "metadata": {
        "id": "RE0tq32GpP_a"
      },
      "source": [
        "-Random Jitter that enlarges the image to 572x572 and crops a random piece of 512x512.\n"
      ]
    },
    {
      "cell_type": "markdown",
      "metadata": {
        "id": "DhgfjXdJpZla"
      },
      "source": [
        "-Flip a part of the random Jitter function that mirrors (or not) the image depending on a random variable"
      ]
    },
    {
      "cell_type": "code",
      "execution_count": 21,
      "metadata": {
        "id": "8se__bIDSPCw"
      },
      "outputs": [],
      "source": [
        "##Data augmentation\n",
        "img_size = 512\n",
        "import tensorflow as tf\n",
        "\n",
        "\n",
        "@tf.function\n",
        "def resize(input_img, tar_img, img_size):\n",
        "    input_img = tf.image.resize(input_img, [img_size, img_size])\n",
        "    tar_img = tf.image.resize(tar_img, [img_size, img_size])\n",
        "    \n",
        "    return input_img, tar_img\n",
        "\n",
        "\n",
        "def normalize(input_img, tar_img):\n",
        "    input_img = (input_img/255.) - 1\n",
        "    tar_img = (tar_img/255.) - 1\n",
        "    return input_img, tar_img\n",
        "\n",
        "def random_jitter(input_img, tar_img):\n",
        "    input_img, tar_img = resize(input_img, tar_img, 572)\n",
        "\n",
        "  \n",
        "    stacked_image = tf.stack([input_img, tar_img], axis=0)\n",
        "  \n",
        "    cropped_image = tf.image.random_crop(stacked_image, size=[2, img_size, img_size, 3])\n",
        "    \n",
        "    input_img, tar_img = cropped_image[0], cropped_image[1]\n",
        "    if tf.random.uniform(()) > 0.5:\n",
        "        input_img = tf.image.flip_left_right(input_img)\n",
        "        tar_img = tf.image.flip_left_right(tar_img)\n",
        "    return input_img, tar_img"
      ]
    },
    {
      "cell_type": "markdown",
      "metadata": {
        "id": "y6qgQNidpnM-"
      },
      "source": [
        "# Loading with images"
      ]
    },
    {
      "cell_type": "code",
      "execution_count": 22,
      "metadata": {
        "id": "ylL_jTgySPHu"
      },
      "outputs": [],
      "source": [
        "def load_image(filename, augment=True):\n",
        "    input_img = tf.cast(tf.image.decode_jpeg(tf.io.read_file(path_train + filename)), tf.float32)[..., :3]\n",
        "    tar_img = tf.cast(tf.image.decode_jpeg(tf.io.read_file(path_target + filename)), tf.float32)[..., :3]\n",
        "    input_img, tar_img = resize(input_img, tar_img, img_size)\n",
        "    if augment:\n",
        "        input_img, tar_img = random_jitter(input_img, tar_img)\n",
        "  \n",
        "    input_img, tar_img = normalize(input_img, tar_img)\n",
        "    return input_img, tar_img\n",
        "\n",
        "def load_train_image(filename):\n",
        "    return load_image(filename)\n",
        "\n",
        "def load_test_image(filename):\n",
        "    return load_image(filename, False)"
      ]
    },
    {
      "cell_type": "code",
      "execution_count": null,
      "metadata": {
        "id": "tCxAl7DnSPOQ"
      },
      "outputs": [],
      "source": [
        "import matplotlib.pyplot as plt\n",
        "plt.figure()\n",
        "plt.imshow(((load_train_image(train_urls[0])[0]) + 1. ) / 2.);\n",
        "plt.figure()\n",
        "plt.imshow(((load_train_image(train_urls[0])[1]) + 1. ) / 2.);"
      ]
    },
    {
      "cell_type": "markdown",
      "metadata": {
        "id": "PaavZ9hdpvLq"
      },
      "source": [
        "# Dataset creation"
      ]
    },
    {
      "cell_type": "code",
      "execution_count": 24,
      "metadata": {
        "id": "nJou3S-gSTj4"
      },
      "outputs": [],
      "source": [
        "train_dataset = tf.data.Dataset.from_tensor_slices(train_urls)\n",
        "train_dataset = train_dataset.map(load_train_image, num_parallel_calls=tf.data.experimental.AUTOTUNE)\n",
        "train_dataset = train_dataset.batch(1)\n",
        "\n",
        "test_dataset = tf.data.Dataset.from_tensor_slices(test_urls)\n",
        "test_dataset = test_dataset.map(load_test_image, num_parallel_calls=tf.data.experimental.AUTOTUNE)\n",
        "test_dataset = test_dataset.batch(1)"
      ]
    },
    {
      "cell_type": "markdown",
      "metadata": {
        "id": "RP-EFQftpzAu"
      },
      "source": [
        "# Model Creation"
      ]
    },
    {
      "cell_type": "code",
      "execution_count": 25,
      "metadata": {
        "id": "Bii9QLBjSTpX"
      },
      "outputs": [],
      "source": [
        "from tensorflow.keras.layers import *\n",
        "from tensorflow.keras.models import Sequential, Model\n",
        "\n",
        "def downsample(filters, batch_norm=True):\n",
        "  \n",
        "  result = Sequential()\n",
        "  initializer = tf.random_normal_initializer(0, 0.02)\n",
        "  \n",
        " \n",
        "  result.add(Conv2D(filters=filters,strides=2, kernel_size=4, padding='same',\n",
        "                    kernel_initializer=initializer, use_bias=not batch_norm))\n",
        "  #Batch\n",
        "  if batch_norm:\n",
        "    result.add(BatchNormalization())\n",
        "  #Activation LeakyRelu\n",
        "  result.add(LeakyReLU())\n",
        "  return result\n",
        "\n",
        "def upsample(filters, dropout=True):\n",
        "  result = Sequential()\n",
        "  initializer = tf.random_normal_initializer(0, 0.02)\n",
        "  \n",
        "  #Conv\n",
        "  result.add(Conv2DTranspose(filters=filters,strides=2, kernel_size=4, padding='same',\n",
        "                             kernel_initializer=initializer, use_bias=False))\n",
        "  #Batch\n",
        "  if dropout:\n",
        "    result.add(Dropout(0.5))\n",
        "  #Activation LeakyRelu\n",
        "  result.add(ReLU())\n",
        "  return result\n",
        "\n",
        "\n",
        "def Generator():\n",
        "  \n",
        "  initializer = tf.random_normal_initializer(0, 0.02)\n",
        "  \n",
        "  inputs = Input(shape=[None, None, 3]) # (b, 256, 256, 64)\n",
        "  \n",
        "  down_stack = [\n",
        "      downsample(64, batch_norm=False), # (b, 128, 128, 64)\n",
        "      downsample(128), # (b, 64, 64, 128)\n",
        "      downsample(256), # (b, 32, 32, 256)\n",
        "      downsample(512), # (b, 16, 16, 512)\n",
        "      downsample(512), # (b, 8, 8, 512)\n",
        "      downsample(512), # (b, 4, 4, 512)\n",
        "      downsample(512), # (b, 2, 2, 512)\n",
        "      downsample(512)  # (b, 1, 1, 512)\n",
        "  ]\n",
        "  \n",
        "  up_stack = [\n",
        "      upsample(512), # (b, 2, 2, 1024)\n",
        "      upsample(512), # (b, 4, 4, 1024)\n",
        "      upsample(512), # (b, 8, 8, 1024)\n",
        "      upsample(512, dropout=False), # (b, 16, 16, 1024)\n",
        "      upsample(256, dropout=False), # (b, 32, 32, 512)\n",
        "      upsample(128, dropout=False), # (b, 64, 64, 256)\n",
        "      upsample(64, dropout=False), # (b, 128, 128, 128)\n",
        "\n",
        "  ]\n",
        "\n",
        "  last = Conv2DTranspose(filters=3, kernel_size=4, strides=2, padding=\"same\", kernel_initializer=initializer, \n",
        "                         activation='tanh')\n",
        "\n",
        "  x = inputs\n",
        "  s = []\n",
        "  concat = Concatenate()\n",
        "  for enc in down_stack:\n",
        "    x = enc(x)\n",
        "    s.append(x)\n",
        "  s = reversed(s[:-1])\n",
        "    \n",
        "  for dec, sk in zip(up_stack, s):\n",
        "    x = dec(x)\n",
        "    x = concat([x, sk])    \n",
        " \n",
        "  output = last(x)\n",
        "  \n",
        "  return Model(inputs=inputs, outputs=output)\n",
        "\n",
        "\n",
        "def Discriminator():\n",
        "  real_input = Input(shape=[None, None, 3], name=\"real_image\")\n",
        "  fake_input = Input(shape=[None, None, 3], name=\"fake_image\")\n",
        "  \n",
        "  con = concatenate([real_input, fake_input])\n",
        "  \n",
        "  initializer = tf.random_normal_initializer(0, 0.02)\n",
        "  \n",
        "  dec1 = downsample(64, batch_norm=False)(con)\n",
        "  dec2 = downsample(128)(dec1)\n",
        "  dec3 = downsample(128)(dec2)\n",
        "  dec4 = downsample(128)(dec3)\n",
        "  \n",
        "  output = Conv2D(filters=1, kernel_size=4, strides=1, kernel_initializer=initializer, padding='same')(dec4)\n",
        "  return Model(inputs=[real_input, fake_input], outputs=output)"
      ]
    },
    {
      "cell_type": "markdown",
      "metadata": {
        "id": "o8JK3Zrsp3jH"
      },
      "source": [
        "# Model initialization"
      ]
    },
    {
      "cell_type": "code",
      "execution_count": 26,
      "metadata": {
        "id": "wzUGF0l0STuN"
      },
      "outputs": [],
      "source": [
        "generator_optimizer = tf.keras.optimizers.Adam(2e-4, beta_1=0.5)\n",
        "discriminator_optimizer = tf.keras.optimizers.Adam(2e-4, beta_1=0.5)\n",
        "\n",
        "generator = Generator()\n",
        "discriminator = Discriminator()"
      ]
    },
    {
      "cell_type": "markdown",
      "metadata": {
        "id": "w5synC-3p77M"
      },
      "source": [
        "# Losses"
      ]
    },
    {
      "cell_type": "code",
      "execution_count": 27,
      "metadata": {
        "id": "qecBfElgSTzH"
      },
      "outputs": [],
      "source": [
        "\n",
        "loss_object = tf.keras.losses.BinaryCrossentropy(from_logits=True)\n",
        "def discrimator_loss(disc_real_output, disc_generated_output):\n",
        "  \n",
        "  \n",
        "  real_loss = loss_object(tf.ones_like(disc_real_output), disc_real_output)\n",
        "  \n",
        "  fake_loss = loss_object(tf.zeros_like(disc_generated_output), disc_generated_output)\n",
        "  \n",
        "  total_disc_loss = real_loss + fake_loss\n",
        "  \n",
        "  return total_disc_loss\n",
        "  \n",
        "  \n",
        "LAMBDA = 100\n",
        "\n",
        "def generator_loss(disc_generated_output, gen_output, target):\n",
        "  gan_loss = loss_object(tf.ones_like(disc_generated_output), disc_generated_output)\n",
        "  \n",
        "\n",
        "  l1_loss = tf.reduce_mean(tf.abs(target - gen_output))\n",
        "  \n",
        "  total_gen_loss =  gan_loss +(LAMBDA * l1_loss)\n",
        "  \n",
        "  return total_gen_loss"
      ]
    },
    {
      "cell_type": "markdown",
      "metadata": {
        "id": "oiS08sCvp_dx"
      },
      "source": [
        "# Generation of images for the model"
      ]
    },
    {
      "cell_type": "code",
      "execution_count": 28,
      "metadata": {
        "id": "kZ-4AgDJST3-"
      },
      "outputs": [],
      "source": [
        "def generate_images(model, test_input, tar, save_filename=False, display_imgs=True):\n",
        "  prediction = model(test_input, training=True)\n",
        "  \n",
        "  if save_filename:\n",
        "    tf.keras.preprocessing.image.save_img('/root/.fastai/data/coco_sample/Output/' + save_filename + '.jpg', prediction[0,...])\n",
        "    \n",
        "  plt.figure(figsize=(10,10))\n",
        "  \n",
        "  display_list = [test_input[0], tar[0], prediction[0]]\n",
        "  title = ['Input Image', 'Ground Truth', 'Predicted Image']\n",
        "  \n",
        "  if display_imgs:\n",
        "    for i in range(3):\n",
        "      plt.subplot(1, 3, i+1)\n",
        "      plt.title(title[i])\n",
        "      plt.imshow(display_list[i] * 1 + 1)\n",
        "      plt.axis('off')\n",
        "  plt.show()"
      ]
    },
    {
      "cell_type": "markdown",
      "metadata": {
        "id": "HeoSB48fqCgt"
      },
      "source": [
        "# Training"
      ]
    },
    {
      "cell_type": "code",
      "execution_count": 29,
      "metadata": {
        "id": "UIA5cLtSScov"
      },
      "outputs": [],
      "source": [
        "def train_step(input_image, target):\n",
        "  \n",
        "  with tf.GradientTape() as gen_tape, tf.GradientTape() as discr_tape:\n",
        "    \n",
        "    output_image = generator(input_image, training=True) \n",
        "    \n",
        "    output_gen_discr = discriminator([output_image, input_image], training=True) \n",
        "    \n",
        "    output_target_discr = discriminator([target, input_image], training=True) \n",
        "\n",
        "    discr_loss = discrimator_loss(output_target_discr, output_gen_discr)  \n",
        "    gen_loss = generator_loss(output_gen_discr,output_image, target)\n",
        "    \n",
        "    generator_grads = gen_tape.gradient(gen_loss, generator.trainable_variables) \n",
        "    discriminator_grads = discr_tape.gradient(discr_loss, discriminator.trainable_variables)\n",
        "  \n",
        "    generator_optimizer.apply_gradients(zip(generator_grads, generator.trainable_variables)) \n",
        "    discriminator_optimizer.apply_gradients(zip(discriminator_grads, discriminator.trainable_variables))"
      ]
    },
    {
      "cell_type": "code",
      "execution_count": 41,
      "metadata": {
        "id": "t1Riu7j8ScuE"
      },
      "outputs": [],
      "source": [
        "def train(dataset, epochs):\n",
        "  for epoch in range(epochs):\n",
        "    imgi = 0\n",
        "    for input_image, target in dataset:\n",
        "      if(imgi==113 or imgi==114 or imgi==115 or imgi==116):\n",
        "        continue\n",
        "      else:\n",
        "        imgi += 1\n",
        "        print ('epoch ' + str(epoch) + ' - train: ' + str(imgi) + '/' + str(len(train_urls)))\n",
        "        train_step (input_image, target)\n",
        "        clear_output(wait=True)\n",
        "      \n",
        "      \n",
        "        imgi = 0\n",
        "        for inp, tar in test_dataset.take(1):\n",
        "          generate_images(generator, inp, tar, str(imgi) + '_' + str(epoch), display_imgs=True)\n",
        "          imgi +=1\n",
        "      \n",
        "    ##Saving\n",
        "    "
      ]
    },
    {
      "cell_type": "code",
      "execution_count": 39,
      "metadata": {
        "id": "kc1eGQS4Ygbk"
      },
      "outputs": [],
      "source": [
        "from IPython.display import clear_output"
      ]
    },
    {
      "cell_type": "code",
      "execution_count": null,
      "metadata": {
        "id": "G74adH1nbtWp"
      },
      "outputs": [],
      "source": [
        "train(train_dataset, 25)"
      ]
    },
    {
      "cell_type": "code",
      "execution_count": null,
      "metadata": {
        "id": "f_3Tf4LDSc5B"
      },
      "outputs": [],
      "source": [
        "imgi = 2\n",
        "for inp, tar in test_dataset.take(20):\n",
        "  generate_images(generator, inp, tar, str(imgi) + '_' + str(300), display_imgs=True)"
      ]
    }
  ],
  "metadata": {
    "accelerator": "GPU",
    "colab": {
      "collapsed_sections": [],
      "name": "Loading_coco_files.ipynb",
      "provenance": []
    },
    "gpuClass": "standard",
    "kernelspec": {
      "display_name": "Python 3",
      "name": "python3"
    },
    "language_info": {
      "name": "python"
    }
  },
  "nbformat": 4,
  "nbformat_minor": 0
}
